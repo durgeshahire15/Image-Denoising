{
  "nbformat": 4,
  "nbformat_minor": 0,
  "metadata": {
    "colab": {
      "name": "EE610_2 (1).ipynb",
      "provenance": []
    },
    "kernelspec": {
      "name": "python3",
      "display_name": "Python 3"
    },
    "language_info": {
      "name": "python"
    },
    "accelerator": "GPU"
  },
  "cells": [
    {
      "cell_type": "code",
      "metadata": {
        "colab": {
          "base_uri": "https://localhost:8080/"
        },
        "id": "svbn0ZK78k4Q",
        "outputId": "9430d11d-ecbd-4451-e774-0469d692938f"
      },
      "source": [
        "from google.colab import drive\n",
        "drive.mount('/content/gdrive')"
      ],
      "execution_count": null,
      "outputs": [
        {
          "output_type": "stream",
          "name": "stdout",
          "text": [
            "Mounted at /content/gdrive\n"
          ]
        }
      ]
    },
    {
      "cell_type": "code",
      "metadata": {
        "id": "h1bHKFrr8uWw"
      },
      "source": [
        "# importing cv2 \n",
        "import cv2\n",
        "from google.colab.patches import cv2_imshow\n",
        "import os\n",
        "import numpy as np\n",
        "import pandas as pd\n",
        "import matplotlib.pyplot as plt\n",
        "import zipfile\n",
        "import tensorflow as tf\n",
        "from tqdm import tqdm\n",
        "\n",
        "from sklearn.model_selection import train_test_split\n",
        "\n",
        "from tensorflow import keras\n",
        "from tensorflow.keras import layers\n",
        "from tensorflow.keras.models import Model\n",
        "from tensorflow.keras.layers import Conv2D, MaxPooling2D, UpSampling2D, Dropout, BatchNormalization, Input\n",
        "from tensorflow.keras.callbacks import EarlyStopping\n",
        "\n",
        "%matplotlib inline"
      ],
      "execution_count": null,
      "outputs": []
    },
    {
      "cell_type": "markdown",
      "metadata": {
        "id": "07BujI-H72gC"
      },
      "source": [
        "# Dataloading"
      ]
    },
    {
      "cell_type": "code",
      "metadata": {
        "id": "It_V2uzv6nYh"
      },
      "source": [
        "# prepare function\n",
        "def process_image(path):\n",
        "    img = cv2.imread(path)\n",
        "    #img = cv2.resize(img, (150, 150), interpolation = cv2.INTER_CUBIC)\n",
        "    img = img/255.0\n",
        "    return img"
      ],
      "execution_count": null,
      "outputs": []
    },
    {
      "cell_type": "code",
      "metadata": {
        "id": "dYKGUVik7ry9",
        "colab": {
          "base_uri": "https://localhost:8080/"
        },
        "outputId": "ba92e5ce-2e1f-4811-c631-f2925b7414f3"
      },
      "source": [
        "# preprocess images\n",
        "train = []\n",
        "train_noised = []\n",
        "test = []\n",
        "test_path = '/content/gdrive/MyDrive/EE610-Assignment-2/BSDS300/images/'\n",
        "train_path = '/content/gdrive/MyDrive/EE610-Assignment-2/BSDS300/images/'\n",
        "\n",
        "for f in tqdm(sorted(os.listdir(train_path + 'train/'))):\n",
        "    train.append(process_image(train_path + 'train/' + f))\n",
        "\n",
        "for f in tqdm(sorted(os.listdir(train_path + 'train_noised/'))):\n",
        "    train_noised.append(process_image(train_path + 'train_noised/' + f))\n",
        "   \n",
        "for f in tqdm(sorted(os.listdir(test_path + 'test_noised/'))):\n",
        "    test.append(process_image(test_path + 'test_noised/' + f))"
      ],
      "execution_count": null,
      "outputs": [
        {
          "output_type": "stream",
          "name": "stderr",
          "text": [
            "100%|██████████| 200/200 [00:42<00:00,  4.68it/s]\n",
            "100%|██████████| 200/200 [00:47<00:00,  4.23it/s]\n",
            "100%|██████████| 100/100 [00:01<00:00, 83.19it/s]\n"
          ]
        }
      ]
    },
    {
      "cell_type": "code",
      "metadata": {
        "id": "MGIdEKgS7zvk"
      },
      "source": [
        "# store image names in list for later use\n",
        "train_img = sorted(os.listdir(train_path + '/train'))\n",
        "train_noised_img = sorted(os.listdir(train_path + '/train_noised'))\n",
        "test_img = sorted(os.listdir(test_path + '/test_noised'))"
      ],
      "execution_count": null,
      "outputs": []
    },
    {
      "cell_type": "code",
      "metadata": {
        "id": "JGknvq4G-r8w",
        "colab": {
          "base_uri": "https://localhost:8080/"
        },
        "outputId": "07c565ac-7578-447c-eed4-8c7bd607ac5d"
      },
      "source": [
        "# convert list to numpy array\n",
        "X_train = np.asarray(train_noised)\n",
        "Y_train = np.asarray(train)\n",
        "X_test = np.asarray(test)\n",
        "\n",
        "X_train, X_val, Y_train, Y_val = train_test_split(X_train, Y_train, test_size=0.15, random_state=42)"
      ],
      "execution_count": null,
      "outputs": [
        {
          "output_type": "stream",
          "name": "stderr",
          "text": [
            "/usr/local/lib/python3.7/dist-packages/numpy/core/_asarray.py:83: VisibleDeprecationWarning: Creating an ndarray from ragged nested sequences (which is a list-or-tuple of lists-or-tuples-or ndarrays with different lengths or shapes) is deprecated. If you meant to do this, you must specify 'dtype=object' when creating the ndarray\n",
            "  return array(a, dtype, copy=False, order=order)\n"
          ]
        }
      ]
    },
    {
      "cell_type": "code",
      "metadata": {
        "colab": {
          "base_uri": "https://localhost:8080/"
        },
        "id": "pY4-52J2_qDj",
        "outputId": "29e40b6c-8473-46da-9775-55f4b1f0e515"
      },
      "source": [
        "Y_train[0].shape"
      ],
      "execution_count": null,
      "outputs": [
        {
          "output_type": "execute_result",
          "data": {
            "text/plain": [
              "(150, 150, 3)"
            ]
          },
          "metadata": {},
          "execution_count": 14
        }
      ]
    },
    {
      "cell_type": "markdown",
      "metadata": {
        "id": "gn2pYVuK97xO"
      },
      "source": [
        "#Modeling\n",
        "- I am using **encoder-decoder** deep CNN model and training it end to end. The trained model obtained will be *image to image* mapping.\n",
        "- **Encoder** has three convolutional blocks for extracting the features from an input image followed by batchnormalization, maxpooli and dropout.\n",
        "- Decoder will"
      ]
    },
    {
      "cell_type": "code",
      "metadata": {
        "colab": {
          "base_uri": "https://localhost:8080/"
        },
        "id": "5TilU_nY97Zj",
        "outputId": "61cf58a6-ed36-4b53-d24f-9027505ed559"
      },
      "source": [
        "def model():\n",
        "    input_layer = Input(shape=(150, 150, 3))\n",
        "    # Encoder\n",
        "    x = layers.Conv2D(32, (3, 3), activation=\"relu\", padding=\"same\")(input_layer)\n",
        "    x = layers.MaxPooling2D((2, 2), padding=\"same\")(x)\n",
        "    x = layers.Conv2D(32, (3, 3), activation=\"relu\", padding=\"same\")(x)\n",
        "    x = layers.MaxPooling2D((2, 2), padding=\"same\")(x)\n",
        "\n",
        "    # Decoder\n",
        "    x = layers.Conv2D(32, (3, 3), activation='relu', padding='same')(x)\n",
        "    x = layers.UpSampling2D((2, 2))(x)\n",
        "    x = layers.Conv2D(32, (3, 3), activation='relu', padding='same')(x)\n",
        "    x = layers.UpSampling2D((2, 2))(x)\n",
        "\n",
        "    output_layer = layers.Conv2D(3, (3, 3), activation=\"sigmoid\", padding=\"same\")(x)\n",
        "    \n",
        "    model = Model(inputs=[input_layer], outputs=[output_layer])\n",
        "    \n",
        "    optimizer = keras.optimizers.Adam(learning_rate=0.001) # changed from 0.001 for 2nd run\n",
        "    model.compile(optimizer=optimizer , loss='mean_squared_error', metrics=['mse'])\n",
        "\n",
        "    return model\n",
        "\n",
        "\n",
        "model = model()\n",
        "model.summary()"
      ],
      "execution_count": null,
      "outputs": [
        {
          "output_type": "stream",
          "name": "stdout",
          "text": [
            "Model: \"model\"\n",
            "_________________________________________________________________\n",
            "Layer (type)                 Output Shape              Param #   \n",
            "=================================================================\n",
            "input_1 (InputLayer)         [(None, 150, 150, 3)]     0         \n",
            "_________________________________________________________________\n",
            "conv2d (Conv2D)              (None, 150, 150, 32)      896       \n",
            "_________________________________________________________________\n",
            "batch_normalization (BatchNo (None, 150, 150, 32)      128       \n",
            "_________________________________________________________________\n",
            "conv2d_1 (Conv2D)            (None, 150, 150, 32)      9248      \n",
            "_________________________________________________________________\n",
            "batch_normalization_1 (Batch (None, 150, 150, 32)      128       \n",
            "_________________________________________________________________\n",
            "conv2d_2 (Conv2D)            (None, 150, 150, 64)      51264     \n",
            "_________________________________________________________________\n",
            "max_pooling2d (MaxPooling2D) (None, 75, 75, 64)        0         \n",
            "_________________________________________________________________\n",
            "dropout (Dropout)            (None, 75, 75, 64)        0         \n",
            "_________________________________________________________________\n",
            "conv2d_3 (Conv2D)            (None, 75, 75, 64)        102464    \n",
            "_________________________________________________________________\n",
            "batch_normalization_2 (Batch (None, 75, 75, 64)        256       \n",
            "_________________________________________________________________\n",
            "up_sampling2d (UpSampling2D) (None, 150, 150, 64)      0         \n",
            "_________________________________________________________________\n",
            "conv2d_4 (Conv2D)            (None, 150, 150, 32)      18464     \n",
            "_________________________________________________________________\n",
            "batch_normalization_3 (Batch (None, 150, 150, 32)      128       \n",
            "_________________________________________________________________\n",
            "conv2d_5 (Conv2D)            (None, 150, 150, 32)      9248      \n",
            "_________________________________________________________________\n",
            "conv2d_7 (Conv2D)            (None, 150, 150, 3)       867       \n",
            "=================================================================\n",
            "Total params: 193,091\n",
            "Trainable params: 192,771\n",
            "Non-trainable params: 320\n",
            "_________________________________________________________________\n"
          ]
        }
      ]
    },
    {
      "cell_type": "code",
      "metadata": {
        "id": "FkKQjctn-ZbH"
      },
      "source": [
        "def scheduler(epoch, lr):\n",
        "  # if epoch < 20:\n",
        "  #   return lr\n",
        "  # else:\n",
        "  #   # # exponential decay\n",
        "  #   # return lr * tf.math.exp(-0.1)\n",
        "\n",
        "  # time-based decay\n",
        "  decay = 0.001/500\n",
        "  return lr * 1/(1 + decay*epoch)\n",
        "\n",
        "#callback1 = EarlyStopping(monitor='loss', patience=10)\n",
        "#callback2 = keras.callbacks.ReduceLROnPlateau(monitor='val_loss', factor=0.5, patience=5, min_lr=0.0001)\n",
        "callback3 = keras.callbacks.LearningRateScheduler(scheduler, 1)\n",
        "\n",
        "history = model.fit(X_train, Y_train, validation_data = (X_val, Y_val), epochs=1500, batch_size=16, verbose=1, callbacks=[callback3])"
      ],
      "execution_count": null,
      "outputs": []
    },
    {
      "cell_type": "markdown",
      "metadata": {
        "id": "LfEAuwfBvC__"
      },
      "source": [
        ""
      ]
    },
    {
      "cell_type": "code",
      "metadata": {
        "colab": {
          "base_uri": "https://localhost:8080/"
        },
        "id": "lzTxwbcCucrL",
        "outputId": "f53a3fc2-b8ae-480e-b58d-2f2e1acfbab7"
      },
      "source": [
        "!nvidia-smi -L"
      ],
      "execution_count": null,
      "outputs": [
        {
          "output_type": "stream",
          "name": "stdout",
          "text": [
            "GPU 0: Tesla K80 (UUID: GPU-219aa753-cf27-b2ab-c9b9-573cc8c4bdec)\n"
          ]
        }
      ]
    },
    {
      "cell_type": "code",
      "metadata": {
        "colab": {
          "base_uri": "https://localhost:8080/",
          "height": 219
        },
        "id": "ymCPUoZmL-4a",
        "outputId": "a8b88c26-1602-44e9-f463-5a672e84b26b"
      },
      "source": [
        "# Check how loss & mae went down\n",
        "epoch_loss = history.history['loss']\n",
        "epoch_val_loss = history.history['val_loss']\n",
        "epoch_mae = history.history['mse']\n",
        "epoch_val_mae = history.history['val_mse']\n",
        "\n",
        "plt.figure(figsize=(20,6))\n",
        "plt.subplot(1,2,1)\n",
        "plt.plot(range(0,len(epoch_loss)), epoch_loss, 'b-', linewidth=2, label='Train Loss')\n",
        "plt.plot(range(0,len(epoch_val_loss)), epoch_val_loss, 'r-', linewidth=2, label='Val Loss')\n",
        "plt.title('Evolution of loss on train & validation datasets over epochs')\n",
        "plt.legend(loc='best')\n",
        "\n",
        "plt.subplot(1,2,2)\n",
        "plt.plot(range(0,len(epoch_mae)), epoch_mae, 'b-', linewidth=2, label='Train MAE')\n",
        "plt.plot(range(0,len(epoch_val_mae)), epoch_val_mae, 'r-', linewidth=2,label='Val MAE')\n",
        "plt.title('Evolution of MAE on train & validation datasets over epochs')\n",
        "plt.legend(loc='best')\n",
        "\n",
        "plt.show()\n"
      ],
      "execution_count": null,
      "outputs": [
        {
          "output_type": "display_data",
          "data": {
            "image/png": "[encoded data removed]",
            "text/plain": [
              "<Figure size 1440x432 with 2 Axes>"
            ]
          },
          "metadata": {
            "needs_background": "light"
          }
        }
      ]
    },
    {
      "cell_type": "code",
      "metadata": {
        "id": "D273gSt3MCyv"
      },
      "source": [
        "# predict/clean test images\n",
        "Y_test = model.predict(X_test, batch_size=16)"
      ],
      "execution_count": null,
      "outputs": []
    },
    {
      "cell_type": "code",
      "metadata": {
        "id": "5F0QapIhMK_v"
      },
      "source": [
        "plt.figure(figsize=(15,25))\n",
        "for i in range(len(Y_test)):\n",
        "    cv2_imshow(X_test[i]*255.0)\n",
        "    \n",
        "    cv2_imshow(Y_test[i]*255.0)\n",
        "\n",
        "plt.show()"
      ],
      "execution_count": null,
      "outputs": []
    }
  ]
}